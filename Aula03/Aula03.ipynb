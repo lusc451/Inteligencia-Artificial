{
 "cells": [
  {
   "cell_type": "markdown",
   "id": "20c28641",
   "metadata": {},
   "source": [
    "# Sistemas Especialistas"
   ]
  },
  {
   "cell_type": "code",
   "execution_count": null,
   "id": "22eef052",
   "metadata": {},
   "outputs": [],
   "source": [
    "base_conhecimento = {\n",
    "    \"sol\": {\n",
    "        \"quente\": \"Ir à Praia\",\n",
    "        \"ameno\": \"Fazer uma caminhada no parque\",\n",
    "    },\n",
    "    \"nublado\": {\n",
    "        \"quente\": \"Visitar um parente com ar condicionado\",\n",
    "        \"ameno\": \"Ficar em casa e tomar café\",\n",
    "    },\n",
    "    \"chuva\": {\n",
    "        \"quente\": \"Ficar na chuva\",\n",
    "        \"ameno\": \"Ficar em casa comendo pipoca\",\n",
    "    }\n",
    "}"
   ]
  }
 ],
 "metadata": {
  "kernelspec": {
   "display_name": "Python 3",
   "language": "python",
   "name": "python3"
  },
  "language_info": {
   "name": "python",
   "version": "3.12.0"
  }
 },
 "nbformat": 4,
 "nbformat_minor": 5
}
