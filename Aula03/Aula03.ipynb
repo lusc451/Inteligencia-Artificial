{
 "cells": [
  {
   "cell_type": "markdown",
   "id": "20c28641",
   "metadata": {},
   "source": [
    "# Sistemas Especialistas"
   ]
  },
  {
   "cell_type": "code",
   "execution_count": 1,
   "id": "22eef052",
   "metadata": {},
   "outputs": [],
   "source": [
    "base_conhecimento = {\n",
    "    \"sol\": {\n",
    "        \"quente\": \"Ir à Praia\",\n",
    "        \"ameno\": \"Fazer uma caminhada no parque\",\n",
    "    },\n",
    "    \"nublado\": {\n",
    "        \"quente\": \"Visitar um parente com ar condicionado\",\n",
    "        \"ameno\": \"Ficar em casa e tomar café\",\n",
    "    },\n",
    "    \"chuva\": {\n",
    "        \"quente\": \"Ficar na chuva\",\n",
    "        \"ameno\": \"Ficar em casa comendo pipoca\",\n",
    "    }\n",
    "}"
   ]
  },
  {
   "cell_type": "markdown",
   "id": "a744b6ef",
   "metadata": {},
   "source": [
    "## Motor de inferência (Simples)"
   ]
  },
  {
   "cell_type": "code",
   "execution_count": 2,
   "id": "58111809",
   "metadata": {},
   "outputs": [],
   "source": [
    "def motor_inferencia_clima(fatos):\n",
    "    clima = fatos.get(\"clima\")\n",
    "    temperatura = fatos.get(\"temperatura\")\n",
    "    \n",
    "    if clima in base_conhecimento and temperatura in base_conhecimento[clima]:\n",
    "        return base_conhecimento[clima][temperatura]\n",
    "    else:\n",
    "        return \"Não tenho recomendação para essa combinação de clima e temperatura.\""
   ]
  },
  {
   "cell_type": "markdown",
   "id": "c3156d42",
   "metadata": {},
   "source": [
    "## Simulação"
   ]
  },
  {
   "cell_type": "code",
   "execution_count": null,
   "id": "3383f877",
   "metadata": {},
   "outputs": [
    {
     "name": "stdout",
     "output_type": "stream",
     "text": [
      "Fatos: {'clima': 'chuva', 'temperatura': 'quente'}\n",
      "Conclusão: Ficar na chuva\n"
     ]
    }
   ],
   "source": [
    "fatos = {\n",
    "    \"clima\": \"chuva\",\n",
    "    \"temperatura\": \"quente\"\n",
    "}\n",
    "\n",
    "conclusao = motor_inferencia_clima(fatos)\n",
    "print(f\"Fatos: {fatos}\")\n",
    "print(f\"Conclusão: {conclusao}\")"
   ]
  },
  {
   "cell_type": "markdown",
   "id": "b842068a",
   "metadata": {},
   "source": [
    "# Forward e Backward Chaining"
   ]
  },
  {
   "cell_type": "code",
   "execution_count": null,
   "id": "a03190b4",
   "metadata": {},
   "outputs": [],
   "source": [
    "fatos = [\"tem_penas\", \"voa\", \"pode_cantar\"]\n",
    "regras = [\n",
    "    {\n",
    "        \"se\": [\"tem_penas\", \"voa\"],\n",
    "        \"entao\": \"e_passaro\"\n",
    "    },\n",
    "    {\n",
    "        \"se\": [\"tem_penas\", \"pode_cantar\"],\n",
    "        \"entao\": \"e_canario\"\n",
    "    },\n",
    "    {\n",
    "        \"se\": [\"tem_pelos\", \"voa\"],\n",
    "        \"entao\": \"e_morcego\"\n",
    "    },\n",
    "    {\n",
    "        \"se\": [\"tem_pelos\", \"pode_cantar\"],\n",
    "        \"entao\": \"e_pirata\"\n",
    "    },\n",
    "    {\n",
    "        \"se\": [\"tem_pelos\", \"late\"],\n",
    "        \"entao\": \"e_cachorro\"\n",
    "    }\n",
    "]"
   ]
  }
 ],
 "metadata": {
  "kernelspec": {
   "display_name": "Python 3",
   "language": "python",
   "name": "python3"
  },
  "language_info": {
   "codemirror_mode": {
    "name": "ipython",
    "version": 3
   },
   "file_extension": ".py",
   "mimetype": "text/x-python",
   "name": "python",
   "nbconvert_exporter": "python",
   "pygments_lexer": "ipython3",
   "version": "3.12.0"
  }
 },
 "nbformat": 4,
 "nbformat_minor": 5
}
