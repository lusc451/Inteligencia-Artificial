{
 "cells": [
  {
   "cell_type": "markdown",
   "id": "f2fda419",
   "metadata": {},
   "source": [
    "## Módulo 1\n",
    "\n",
    "### Classificação com **KNeighborsClassifier** (Iris)"
   ]
  },
  {
   "cell_type": "markdown",
   "id": "901a36cf",
   "metadata": {},
   "source": [
    "#### 1) Importações e carregamento dos dados"
   ]
  },
  {
   "cell_type": "code",
   "execution_count": 1,
   "id": "3ee1ac79",
   "metadata": {},
   "outputs": [
    {
     "name": "stdout",
     "output_type": "stream",
     "text": [
      "Formato de X: (150, 4)\n",
      "Formato de y: (150,)\n",
      "Classes: ['setosa', 'versicolor', 'virginica']\n"
     ]
    }
   ],
   "source": [
    "from sklearn.datasets import load_iris\n",
    "from sklearn.model_selection import train_test_split\n",
    "from sklearn.preprocessing import StandardScaler\n",
    "from sklearn.neighbors import KNeighborsClassifier\n",
    "from sklearn.metrics import accuracy_score, classification_report, confusion_matrix\n",
    "import pandas as pd\n",
    "\n",
    "# Carrega o dataset Iris\n",
    "iris = load_iris()\n",
    "X = iris.data\n",
    "y = iris.target\n",
    "\n",
    "print(\"Formato de X:\", X.shape)\n",
    "print(\"Formato de y:\", y.shape)\n",
    "print(\"Classes:\", iris.target_names.tolist())\n"
   ]
  },
  {
   "cell_type": "markdown",
   "id": "37831c2b",
   "metadata": {},
   "source": [
    "#### 2) Particionamento (treino/teste) — mesmo *random_state* do notebook original"
   ]
  },
  {
   "cell_type": "code",
   "execution_count": 2,
   "id": "866360d9",
   "metadata": {},
   "outputs": [
    {
     "name": "stdout",
     "output_type": "stream",
     "text": [
      "Treino: (105, 4) Teste: (45, 4)\n"
     ]
    }
   ],
   "source": [
    "# Mantém a mesma divisão (30% teste, random_state=30) para ser diretamente comparável\n",
    "X_train, X_test, y_train, y_test = train_test_split(\n",
    "    X, y, test_size=0.30, random_state=30, stratify=y\n",
    ")\n",
    "\n",
    "print(\"Treino:\", X_train.shape, \"Teste:\", X_test.shape)\n"
   ]
  },
  {
   "cell_type": "markdown",
   "id": "e13aaa89",
   "metadata": {},
   "source": [
    "#### 3) Padronização (opcional, mas recomendado para KNN)"
   ]
  },
  {
   "cell_type": "code",
   "execution_count": 3,
   "id": "b9c4dd54",
   "metadata": {},
   "outputs": [
    {
     "name": "stdout",
     "output_type": "stream",
     "text": [
      "Exemplo (primeiras 3 linhas após normalizar):\n",
      " [[-0.7941891   0.68606612 -1.34012848 -1.32190335]\n",
      " [-0.05294594 -0.84663478  0.08582906 -0.01739347]\n",
      " [ 0.56475669  0.46710885  0.54213548  0.50441049]]\n"
     ]
    }
   ],
   "source": [
    "scaler = StandardScaler()\n",
    "X_train_scaled = scaler.fit_transform(X_train)\n",
    "X_test_scaled  = scaler.transform(X_test)\n",
    "\n",
    "print(\"Exemplo (primeiras 3 linhas após normalizar):\\n\", X_train_scaled[:3])\n"
   ]
  },
  {
   "cell_type": "markdown",
   "id": "6dcc184b",
   "metadata": {},
   "source": [
    "#### 4) Treinamento com KNN (definindo *k*=5 por padrão)"
   ]
  },
  {
   "cell_type": "code",
   "execution_count": 4,
   "id": "60b582d3",
   "metadata": {},
   "outputs": [
    {
     "name": "stdout",
     "output_type": "stream",
     "text": [
      "Parâmetros do modelo: {'algorithm': 'auto', 'leaf_size': 30, 'metric': 'minkowski', 'metric_params': None, 'n_jobs': None, 'n_neighbors': 5, 'p': 2, 'weights': 'uniform'}\n"
     ]
    }
   ],
   "source": [
    "knn = KNeighborsClassifier(n_neighbors=5, weights=\"uniform\", p=2)  # distância euclidiana\n",
    "knn.fit(X_train_scaled, y_train)\n",
    "\n",
    "print(\"Parâmetros do modelo:\", knn.get_params())\n"
   ]
  },
  {
   "cell_type": "markdown",
   "id": "13775d3c",
   "metadata": {},
   "source": [
    "#### 5) Avaliação"
   ]
  },
  {
   "cell_type": "code",
   "execution_count": 5,
   "id": "f5ee226d",
   "metadata": {},
   "outputs": [
    {
     "name": "stdout",
     "output_type": "stream",
     "text": [
      "Acurácia no conjunto de teste: 0.9333\n",
      "\n",
      "Relatório de Classificação:\n",
      "              precision    recall  f1-score   support\n",
      "\n",
      "      setosa       1.00      1.00      1.00        15\n",
      "  versicolor       0.88      0.93      0.90        15\n",
      "   virginica       0.93      0.87      0.90        15\n",
      "\n",
      "    accuracy                           0.93        45\n",
      "   macro avg       0.93      0.93      0.93        45\n",
      "weighted avg       0.93      0.93      0.93        45\n",
      "\n",
      "Matriz de Confusão:\n",
      "[[15  0  0]\n",
      " [ 0 14  1]\n",
      " [ 0  2 13]]\n"
     ]
    }
   ],
   "source": [
    "y_pred = knn.predict(X_test_scaled)\n",
    "acc = accuracy_score(y_test, y_pred)\n",
    "print(f\"Acurácia no conjunto de teste: {acc:.4f}\\n\")\n",
    "\n",
    "print(\"Relatório de Classificação:\")\n",
    "print(classification_report(y_test, y_pred, target_names=iris.target_names))\n",
    "\n",
    "print(\"Matriz de Confusão:\")\n",
    "print(confusion_matrix(y_test, y_pred))\n"
   ]
  },
  {
   "cell_type": "markdown",
   "id": "526abeb3",
   "metadata": {},
   "source": [
    "#### 6) Ajuste rápido de **k** (valores ímpares 1–15)"
   ]
  },
  {
   "cell_type": "code",
   "execution_count": 6,
   "id": "4c86d184",
   "metadata": {},
   "outputs": [
    {
     "data": {
      "text/html": [
       "<div>\n",
       "<style scoped>\n",
       "    .dataframe tbody tr th:only-of-type {\n",
       "        vertical-align: middle;\n",
       "    }\n",
       "\n",
       "    .dataframe tbody tr th {\n",
       "        vertical-align: top;\n",
       "    }\n",
       "\n",
       "    .dataframe thead th {\n",
       "        text-align: right;\n",
       "    }\n",
       "</style>\n",
       "<table border=\"1\" class=\"dataframe\">\n",
       "  <thead>\n",
       "    <tr style=\"text-align: right;\">\n",
       "      <th></th>\n",
       "      <th>k</th>\n",
       "      <th>accuracy</th>\n",
       "    </tr>\n",
       "  </thead>\n",
       "  <tbody>\n",
       "    <tr>\n",
       "      <th>0</th>\n",
       "      <td>1</td>\n",
       "      <td>0.911111</td>\n",
       "    </tr>\n",
       "    <tr>\n",
       "      <th>1</th>\n",
       "      <td>3</td>\n",
       "      <td>0.911111</td>\n",
       "    </tr>\n",
       "    <tr>\n",
       "      <th>2</th>\n",
       "      <td>5</td>\n",
       "      <td>0.933333</td>\n",
       "    </tr>\n",
       "    <tr>\n",
       "      <th>3</th>\n",
       "      <td>7</td>\n",
       "      <td>0.933333</td>\n",
       "    </tr>\n",
       "    <tr>\n",
       "      <th>4</th>\n",
       "      <td>9</td>\n",
       "      <td>0.933333</td>\n",
       "    </tr>\n",
       "    <tr>\n",
       "      <th>5</th>\n",
       "      <td>11</td>\n",
       "      <td>0.911111</td>\n",
       "    </tr>\n",
       "    <tr>\n",
       "      <th>6</th>\n",
       "      <td>13</td>\n",
       "      <td>0.911111</td>\n",
       "    </tr>\n",
       "    <tr>\n",
       "      <th>7</th>\n",
       "      <td>15</td>\n",
       "      <td>0.911111</td>\n",
       "    </tr>\n",
       "  </tbody>\n",
       "</table>\n",
       "</div>"
      ],
      "text/plain": [
       "    k  accuracy\n",
       "0   1  0.911111\n",
       "1   3  0.911111\n",
       "2   5  0.933333\n",
       "3   7  0.933333\n",
       "4   9  0.933333\n",
       "5  11  0.911111\n",
       "6  13  0.911111\n",
       "7  15  0.911111"
      ]
     },
     "execution_count": 6,
     "metadata": {},
     "output_type": "execute_result"
    }
   ],
   "source": [
    "from collections import OrderedDict\n",
    "\n",
    "results = OrderedDict()\n",
    "for k in range(1, 16, 2):  # 1,3,5,...,15\n",
    "    model = KNeighborsClassifier(n_neighbors=k)\n",
    "    model.fit(X_train_scaled, y_train)\n",
    "    score = model.score(X_test_scaled, y_test)\n",
    "    results[k] = score\n",
    "\n",
    "pd.DataFrame({\"k\": list(results.keys()), \"accuracy\": list(results.values())})\n"
   ]
  }
 ],
 "metadata": {
  "kernelspec": {
   "display_name": "Python 3",
   "language": "python",
   "name": "python3"
  },
  "language_info": {
   "codemirror_mode": {
    "name": "ipython",
    "version": 3
   },
   "file_extension": ".py",
   "mimetype": "text/x-python",
   "name": "python",
   "nbconvert_exporter": "python",
   "pygments_lexer": "ipython3",
   "version": "3.12.0"
  }
 },
 "nbformat": 4,
 "nbformat_minor": 5
}
