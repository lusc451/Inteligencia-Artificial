{
 "cells": [
  {
   "cell_type": "markdown",
   "id": "a8983f69",
   "metadata": {},
   "source": [
    "## Módulo 1"
   ]
  },
  {
   "cell_type": "code",
   "execution_count": 1,
   "id": "7457efca",
   "metadata": {},
   "outputs": [
    {
     "name": "stdout",
     "output_type": "stream",
     "text": [
      "Forma das features (x):  (150, 4)\n",
      "Forma das caracteristicas (x):  4\n",
      "Forma do valor alvo (y):  (150,)\n"
     ]
    }
   ],
   "source": [
    "#Importando as bibliotecas\n",
    "\n",
    "from sklearn.datasets import load_iris\n",
    "from sklearn.model_selection import train_test_split\n",
    "from sklearn.tree import DecisionTreeClassifier\n",
    "from sklearn.metrics import accuracy_score\n",
    "from sklearn.preprocessing import StandardScaler\n",
    "import pandas as pd\n",
    "\n",
    "iris = load_iris()\n",
    "x = iris.data #[n_amostras, n_features]\n",
    "y = iris.target # Vetor de alvo [n_amostras]\n",
    "\n",
    "print(\"Forma das features (x): \", x.shape)\n",
    "print(\"Forma das caracteristicas (x): \", x.shape[1])\n",
    "print(\"Forma do valor alvo (y): \", y.shape)"
   ]
  },
  {
   "cell_type": "markdown",
   "id": "2075dcc8",
   "metadata": {},
   "source": [
    "### Treino e Teste"
   ]
  },
  {
   "cell_type": "code",
   "execution_count": null,
   "id": "e662dc4c",
   "metadata": {},
   "outputs": [],
   "source": []
  }
 ],
 "metadata": {
  "kernelspec": {
   "display_name": "Python 3",
   "language": "python",
   "name": "python3"
  },
  "language_info": {
   "codemirror_mode": {
    "name": "ipython",
    "version": 3
   },
   "file_extension": ".py",
   "mimetype": "text/x-python",
   "name": "python",
   "nbconvert_exporter": "python",
   "pygments_lexer": "ipython3",
   "version": "3.12.3"
  }
 },
 "nbformat": 4,
 "nbformat_minor": 5
}
