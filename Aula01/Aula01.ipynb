{
 "cells": [
  {
   "cell_type": "markdown",
   "id": "a8983f69",
   "metadata": {},
   "source": [
    "## Módulo 1"
   ]
  },
  {
   "cell_type": "code",
   "execution_count": 1,
   "id": "7457efca",
   "metadata": {},
   "outputs": [
    {
     "name": "stdout",
     "output_type": "stream",
     "text": [
      "Forma das features (x):  (150, 4)\n",
      "Forma das caracteristicas (x):  4\n",
      "Forma do valor alvo (y):  (150,)\n"
     ]
    }
   ],
   "source": [
    "#Importando as bibliotecas\n",
    "\n",
    "from sklearn.datasets import load_iris\n",
    "from sklearn.model_selection import train_test_split\n",
    "from sklearn.tree import DecisionTreeClassifier\n",
    "from sklearn.neighbors import KNeighborsClassifier\n",
    "from sklearn.metrics import accuracy_score\n",
    "from sklearn.preprocessing import StandardScaler\n",
    "import pandas as pd\n",
    "\n",
    "iris = load_iris()\n",
    "x = iris.data #[n_amostras, n_features]\n",
    "y = iris.target # Vetor de alvo [n_amostras]\n",
    "\n",
    "print(\"Forma das features (x): \", x.shape)\n",
    "print(\"Forma das caracteristicas (x): \", x.shape[1])\n",
    "print(\"Forma do valor alvo (y): \", y.shape)"
   ]
  },
  {
   "cell_type": "markdown",
   "id": "2075dcc8",
   "metadata": {},
   "source": [
    "## Treino e Teste"
   ]
  },
  {
   "cell_type": "markdown",
   "id": "f0ba0e55",
   "metadata": {},
   "source": [
    "### Particionar os dados para treinamento"
   ]
  },
  {
   "cell_type": "code",
   "execution_count": 2,
   "id": "e662dc4c",
   "metadata": {},
   "outputs": [
    {
     "name": "stdout",
     "output_type": "stream",
     "text": [
      "Tamanho do conjunto do treinamento:  (105, 4)\n",
      "Tamanho do conjunto do teste:  (45, 4)\n"
     ]
    }
   ],
   "source": [
    "x_train, x_test, y_train, y_test = train_test_split(x, y, test_size=0.3, random_state=30)\n",
    "\n",
    "print(\"Tamanho do conjunto do treinamento: \", x_train.shape)\n",
    "print(\"Tamanho do conjunto do teste: \", x_test.shape)"
   ]
  },
  {
   "cell_type": "markdown",
   "id": "16a6cca1",
   "metadata": {},
   "source": [
    "### Árvore de decisão"
   ]
  },
  {
   "cell_type": "code",
   "execution_count": 3,
   "id": "86d17858",
   "metadata": {},
   "outputs": [
    {
     "name": "stdout",
     "output_type": "stream",
     "text": [
      "{'ccp_alpha': 0.0, 'class_weight': None, 'criterion': 'gini', 'max_depth': None, 'max_features': None, 'max_leaf_nodes': None, 'min_impurity_decrease': 0.0, 'min_samples_leaf': 1, 'min_samples_split': 2, 'min_weight_fraction_leaf': 0.0, 'monotonic_cst': None, 'random_state': 30, 'splitter': 'best'}\n"
     ]
    }
   ],
   "source": [
    "tree_model = DecisionTreeClassifier(random_state=30)\n",
    "tree_model.fit(x_train, y_train)\n",
    "print(tree_model.get_params())"
   ]
  },
  {
   "cell_type": "markdown",
   "id": "59f98a72",
   "metadata": {},
   "source": [
    "### Predição"
   ]
  },
  {
   "cell_type": "code",
   "execution_count": 4,
   "id": "5f5e65c9",
   "metadata": {},
   "outputs": [
    {
     "name": "stdout",
     "output_type": "stream",
     "text": [
      "0.9555555555555556\n"
     ]
    }
   ],
   "source": [
    "y_tree_predict = tree_model.predict(x_test)\n",
    "accuracy_tree = accuracy_score(y_test, y_tree_predict)\n",
    "\n",
    "print(accuracy_tree)"
   ]
  },
  {
   "cell_type": "markdown",
   "id": "a6379a28",
   "metadata": {},
   "source": [
    "## KNN K-Nearest Neighbors"
   ]
  },
  {
   "cell_type": "markdown",
   "id": "deda55f1",
   "metadata": {},
   "source": [
    "### Escalonamento de Dados"
   ]
  },
  {
   "cell_type": "code",
   "execution_count": null,
   "id": "bf00ea5b",
   "metadata": {},
   "outputs": [],
   "source": [
    "scaler = StandardScaler()\n",
    "x_train_scaled = scaler.fit_transform(x_train)\n",
    "x_test_scaled = scaler.transform(x_test)\n",
    "\n",
    "knn_model = KNeighborsClassifier()\n",
    "knn_model.fit(x_train_scaled, y_train)\n",
    "\n",
    "y_pred_knn = knn_model.predict(x_test_scaled)\n",
    "accuracy_knn = accuracy_score(y_test, y_pred_knn)\n",
    "\n",
    "print(f'KNN: {accuracy_knn:.2f}')"
   ]
  }
 ],
 "metadata": {
  "kernelspec": {
   "display_name": "Python 3",
   "language": "python",
   "name": "python3"
  },
  "language_info": {
   "codemirror_mode": {
    "name": "ipython",
    "version": 3
   },
   "file_extension": ".py",
   "mimetype": "text/x-python",
   "name": "python",
   "nbconvert_exporter": "python",
   "pygments_lexer": "ipython3",
   "version": "3.12.0"
  }
 },
 "nbformat": 4,
 "nbformat_minor": 5
}
